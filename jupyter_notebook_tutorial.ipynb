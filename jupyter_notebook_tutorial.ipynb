{
 "cells": [
  {
   "cell_type": "markdown",
   "metadata": {
    "collapsed": true
   },
   "source": [
    "This is a Jupyter notebook. It's basically a fancy Python REPL. In each cell you can run arbritary python code, markdown or shell commands. The shortcut for running a cell is `shift` + `enter`. Try it in the cell below."
   ]
  },
  {
   "cell_type": "code",
   "execution_count": null,
   "metadata": {
    "collapsed": true
   },
   "outputs": [],
   "source": [
    "\"can't see me\"\n",
    "'shift enter!'"
   ]
  },
  {
   "cell_type": "markdown",
   "metadata": {},
   "source": [
    "Notice the value in the last line of the cell will automatically be shown even without a `print`. This is convenient for interactive analysis.\n",
    "\n",
    "For the data science capture the flag workshop you'll need the Python libraries [pandas](https://pandas.pydata.org/) and [matplotlib](https://matplotlib.org/users/installing.html). Please go to those links and install the libraries in your python environment. Make sure it's the same environment this notebook uses. You can check which python this notebook is using with the cell below"
   ]
  },
  {
   "cell_type": "code",
   "execution_count": null,
   "metadata": {
    "collapsed": true
   },
   "outputs": [],
   "source": [
    "!which python"
   ]
  },
  {
   "cell_type": "markdown",
   "metadata": {},
   "source": [
    "The `!` allows you to run shell commands. Once you've installed the libraries run the cell below to import them"
   ]
  },
  {
   "cell_type": "code",
   "execution_count": null,
   "metadata": {
    "collapsed": true
   },
   "outputs": [],
   "source": [
    "import pandas as pd\n",
    "import matplotlib.pyplot as plt\n",
    "\n",
    "%matplotlib inline"
   ]
  },
  {
   "cell_type": "markdown",
   "metadata": {},
   "source": [
    "## Read the data\n",
    "\n",
    "There should be a file named `200M_women.csv` in the same directory as this notebook. The file contains olympic race times for the track & field event “200M Women”. Each row contains data related to the race time of a medalist, and there are race times since 1948.\n",
    "\n",
    "The pre-requisite to any data analysis is being able to read the data in, so let's do that! Pandas represents data in [DataFrames](https://towardsdatascience.com/pandas-dataframe-a-lightweight-intro-680e3a212b96). To quote the linked article:\n",
    "\n",
    "> Pandas DataFrame is nothing but an in-memory representation of an excel sheet via Python programming language\n",
    "\n",
    "We're going to read the CSV file in as a DataFrame using `pd.read_csv`"
   ]
  },
  {
   "cell_type": "code",
   "execution_count": null,
   "metadata": {
    "collapsed": true
   },
   "outputs": [],
   "source": [
    "df = pd.read_csv('200M_women.csv')"
   ]
  },
  {
   "cell_type": "markdown",
   "metadata": {},
   "source": [
    "Let's peek at the top several rows of the DataFrame"
   ]
  },
  {
   "cell_type": "code",
   "execution_count": null,
   "metadata": {
    "collapsed": true
   },
   "outputs": [],
   "source": [
    "df.head()"
   ]
  },
  {
   "cell_type": "markdown",
   "metadata": {},
   "source": [
    "Here are what the columns mean:\n",
    "\n",
    "* Event - the name of the Olympic event\n",
    "* Location - the city the Olympics were held at\n",
    "* Year - the year of the Olympics\n",
    "* Medal - the medal the runner won\n",
    "* Name - the name of the runner\n",
    "* Nationality - the nationality of the runner\n",
    "* Result - the runner’s race time in seconds\n",
    "\n",
    "\n",
    "Cool we have some data! But how many rows and columns are there? Call `.shape` to get the number of rows and columns of the DataFrame."
   ]
  },
  {
   "cell_type": "code",
   "execution_count": null,
   "metadata": {
    "collapsed": true
   },
   "outputs": [],
   "source": [
    "df.shape"
   ]
  },
  {
   "cell_type": "markdown",
   "metadata": {},
   "source": [
    "If you want to see just the columns of your dataFrame you can do:"
   ]
  },
  {
   "cell_type": "code",
   "execution_count": null,
   "metadata": {
    "collapsed": true
   },
   "outputs": [],
   "source": [
    "df.columns"
   ]
  },
  {
   "cell_type": "markdown",
   "metadata": {},
   "source": [
    "To select one or more columns of your DataFrame you can index into it with the column name(s)."
   ]
  },
  {
   "cell_type": "code",
   "execution_count": null,
   "metadata": {
    "collapsed": true
   },
   "outputs": [],
   "source": [
    "# Top 5 rows of one column\n",
    "df['Location'].head()"
   ]
  },
  {
   "cell_type": "code",
   "execution_count": null,
   "metadata": {
    "collapsed": true
   },
   "outputs": [],
   "source": [
    "# Top 5 rows of several columns. Notice you index with a list of column names\n",
    "df[['Location', 'Year']].head()"
   ]
  },
  {
   "cell_type": "markdown",
   "metadata": {},
   "source": [
    "## Explore the data\n",
    "\n",
    "Great, we now know the shape of the data but very little else. Let's explore a bit. `Result` contains runners' race times in seconds. What is the mean running time over all rows? We can select the data from `Result` and call `.mean()`."
   ]
  },
  {
   "cell_type": "code",
   "execution_count": null,
   "metadata": {
    "collapsed": true
   },
   "outputs": [],
   "source": [
    "df['Result'].mean()"
   ]
  },
  {
   "cell_type": "markdown",
   "metadata": {},
   "source": [
    "This dataset contains runner Merlene Ottey. According to Wikipedia\n",
    "\n",
    "> Ottey has won the most career Olympic medals (9 medals: 3 silver and 6 bronze) in women's track and field\n",
    "\n",
    "Wowzers! Let's filter down to her running times."
   ]
  },
  {
   "cell_type": "code",
   "execution_count": null,
   "metadata": {
    "collapsed": true
   },
   "outputs": [],
   "source": [
    "df[df['Name'] == 'Merlene OTTEY']"
   ]
  },
  {
   "cell_type": "markdown",
   "metadata": {},
   "source": [
    "The above works by first creating a boolean series that's `True` when column `Name` == `'Merlene OTTEY'` and `False` otherwise. We index into `df` with the boolean series to get rows where the boolean series is `True`."
   ]
  },
  {
   "cell_type": "code",
   "execution_count": null,
   "metadata": {
    "collapsed": true
   },
   "outputs": [],
   "source": [
    "# What the boolean series looks like\n",
    "(df['Name'] == 'Merlene OTTEY').head()"
   ]
  },
  {
   "cell_type": "markdown",
   "metadata": {},
   "source": [
    "Merlene is fast. How much faster is she than the average time of all other medalists? We'll subtract Merlene's mean running time from the average over everyone else."
   ]
  },
  {
   "cell_type": "code",
   "execution_count": null,
   "metadata": {
    "collapsed": true
   },
   "outputs": [],
   "source": [
    "df[df['Name'] != 'Merlene OTTEY']['Result'].mean() - df[df['Name'] == 'Merlene OTTEY']['Result'].mean()"
   ]
  },
  {
   "cell_type": "markdown",
   "metadata": {},
   "source": [
    "On average Merlene's running time is 0.62s less than the average over everyone else. That's substantial time for olympic sprints.\n",
    "\n",
    "Switching gears, I wonder which nationalities win the most medals? To find out we can use a `groupby` operation on `Nationality`. This is like using `GROUP BY` in SQL. We'll `groupby` `Nationality` and find out the number of rows in each group with `.size()`. Then we'll sort in descending order"
   ]
  },
  {
   "cell_type": "code",
   "execution_count": null,
   "metadata": {
    "collapsed": true
   },
   "outputs": [],
   "source": [
    "df.groupby('Nationality').size().sort_values(ascending=False)"
   ]
  },
  {
   "cell_type": "markdown",
   "metadata": {},
   "source": [
    "Looks like USA and JAM are tied for winning the most medals.\n",
    "\n",
    "We've looked at Merlene's time vs everyone else. I want to know how running times are distributed over all rows. To do so we can plot a histogram of running times. A histogram buckets running times and counts the number of values in each bucket. \n",
    "\n",
    "One way to plot the histogram is to call `.plot` on the DataFrame. This functions calls the plotting library `Matplotlib.pyplot`."
   ]
  },
  {
   "cell_type": "code",
   "execution_count": null,
   "metadata": {
    "collapsed": true
   },
   "outputs": [],
   "source": [
    "df.plot(y='Result', kind='hist', label='running_times', legend=False)\n",
    "plt.xlabel('running time')"
   ]
  },
  {
   "cell_type": "markdown",
   "metadata": {},
   "source": [
    "Alternatively we can use `Matplotlib.pyplot` imported as `plt` directly."
   ]
  },
  {
   "cell_type": "code",
   "execution_count": null,
   "metadata": {
    "collapsed": true
   },
   "outputs": [],
   "source": [
    "plt.hist(df['Result'])\n",
    "plt.xlabel('running time')"
   ]
  },
  {
   "cell_type": "markdown",
   "metadata": {},
   "source": [
    "That's interesting, it looks like most running times are in the 22-23s range but in some years medalists have times up to 25s! Maybe we've gotten better at running over the years. Can we plot the mean running time for each year in a scatterplot? "
   ]
  },
  {
   "cell_type": "code",
   "execution_count": null,
   "metadata": {
    "collapsed": true
   },
   "outputs": [],
   "source": [
    "mean_times = df.groupby('Year')['Result'].mean()\n",
    "plt.scatter(mean_times.index, mean_times)\n",
    "plt.xlabel('year')\n",
    "plt.ylabel('mean running time in seconds')"
   ]
  },
  {
   "cell_type": "markdown",
   "metadata": {
    "collapsed": true
   },
   "source": [
    "People have definitely gotten better at running over the years. \n",
    "\n",
    "So what's going on with the code above?\n",
    "\n",
    "In the first line we're using `groupby` again to find the mean running time by `Year`. We need to index with column `Result` after the `groupby` to tell Pandas to only take the mean for the `Result` column. Else pandas will try to take the mean for all columns.\n",
    "\n",
    "In the second line we use `plt` to make a scatter plot. The first argument is the values on the x-axis, which are the values we grouped by. If you display `mean_times` in a cell, it's a Pandas [series](https://towardsdatascience.com/pandas-series-a-lightweight-intro-b7963a0d62a2) indexed by `Year`. That's why we pass in `mean_times.index` as the first argument. Print out `mean_times.index` to see what that looks like. The second argument in `plt.scatter` is the values on the y-axis, which is the mean times."
   ]
  },
  {
   "cell_type": "markdown",
   "metadata": {
    "collapsed": true
   },
   "source": [
    "That's it! You've gone through a very simple tutorial of how to use Pandas and Matplotlib in a Jupyter notebook. Thanks for taking the time to get more familiar with this data analysis environment. It'll make you much more productive for the workshop.\n",
    "\n",
    "If you're interested in additional reading:\n",
    "\n",
    "* [Reading data and filtering in Pandas](https://data36.com/pandas-tutorial-1-basics-reading-data-files-dataframes-data-selection/)\n",
    "* [Aggregation and grouping in Pandas](https://data36.com/pandas-tutorial-2-aggregation-and-grouping/)\n",
    "* [Lightweight intro to DataFrames](https://towardsdatascience.com/pandas-dataframe-a-lightweight-intro-680e3a212b96)\n",
    "\n",
    "Feel free to explore the dataset further! You might ask some other questions like:\n",
    "\n",
    "* How does the winning race time change over the years?\n",
    "* Which runner has been a medalist the most times? What about just gold medalists?\n",
    "* How does representation of runners from different nationalities change over the years?\n",
    "* On average how many olympics does each person compete in?"
   ]
  },
  {
   "cell_type": "code",
   "execution_count": null,
   "metadata": {
    "collapsed": true
   },
   "outputs": [],
   "source": []
  }
 ],
 "metadata": {
  "kernelspec": {
   "display_name": "Python [conda env:py37]",
   "language": "python",
   "name": "conda-env-py37-py"
  },
  "language_info": {
   "codemirror_mode": {
    "name": "ipython",
    "version": 3
   },
   "file_extension": ".py",
   "mimetype": "text/x-python",
   "name": "python",
   "nbconvert_exporter": "python",
   "pygments_lexer": "ipython3",
   "version": "3.7.0"
  }
 },
 "nbformat": 4,
 "nbformat_minor": 2
}
